{
 "metadata": {
  "name": "",
  "signature": "sha256:2367c99442d7cd0a16b02d9693e16e1b8c4c9125642ad1afe49583e3c87a5132"
 },
 "nbformat": 3,
 "nbformat_minor": 0,
 "worksheets": [
  {
   "cells": [
    {
     "cell_type": "code",
     "collapsed": false,
     "input": [
      "#!/usr/bin/python\n",
      "\n",
      "import time\n",
      "import datetime\n",
      "import sys\n",
      "from pymlab import config\n",
      "import csv\n",
      "\n",
      "#### Script Arguments ###############################################\n",
      "\n",
      "#if len(sys.argv) != 2:\n",
      "#    sys.stderr.write(\"Invalid number of arguments.\\n\")\n",
      "#    sys.stderr.write(\"Usage: %s PORT ADDRESS\\n\" % (sys.argv[0], ))\n",
      "#    sys.exit(1)\n",
      "\n",
      "# port    = eval(sys.argv[1])\n",
      "\n",
      "#### Sensor Configuration ###########################################\n",
      "port = 1\n",
      "\n",
      "\n",
      "cfg = config.Config(\n",
      "    i2c = {\n",
      "            \"port\": port,\n",
      "    },\n",
      "    bus = [\n",
      "        {\n",
      "            \"name\":          \"sht25\",\n",
      "            \"type\":        \"sht25\",\n",
      "        },\n",
      "         { \"name\":\"gpio\", \"type\":\"I2CIO_TCA9535\"},\n",
      "    ],\n",
      ")\n",
      "cfg.initialize()\n",
      "\n",
      "print \"SHT25 humidity and temperature sensor example \\r\\n\"\n",
      "print \"Temperature  Humidity[%%]  \\r\\n\"\n",
      "sht_sensor = cfg.get_device(\"sht25\")\n",
      "time.sleep(0.5)\n",
      "\n",
      "i=0\n",
      "\n",
      "### Loging #################################################\n",
      "\n",
      "class Log(object):\n",
      "    def __init__(self):\n",
      "        self.f = open ('log.csv', 'a')\n",
      "\n",
      "    def write(self, data):\n",
      "        writer = csv.writer(self.f)\n",
      "        writer.writerow(data)\n",
      "        self.f.flush()\n",
      "\n",
      "    def close(self):\n",
      "        self.f.close()\n",
      "        \n",
      "#### Data ###################################################\n",
      "\n",
      "gpio = cfg.get_device(\"gpio\")\n",
      "logging = Log()\n",
      "\n",
      "STATE_INIT = 0\n",
      "STATE_TIMER_START = 1\n",
      "STATE_TIMER_WAIT = 2\n",
      "STATE_TIMER_NTH = 3\n",
      "state = STATE_INIT\n",
      "\n",
      "\n",
      "    \n",
      "gpio.config_ports(0x0000, 0x0000)\n",
      "gpio.set_ports(0b0)\n",
      "\n",
      "try:\n",
      "    while True:\n",
      "        temperature = sht_sensor.get_temp();\n",
      "        humidity = sht_sensor.get_hum();\n",
      "       \n",
      "    \n",
      "        \n",
      "        if state == STATE_INIT:\n",
      "            gpio.set_ports(0b0)\n",
      "            if temperature > 23:\n",
      "                state = STATE_TIMER_START\n",
      "    \n",
      "        elif state == STATE_TIMER_START:\n",
      "            gpio.set_ports(0b1001)\n",
      "            t = time.time()\n",
      "           # if temperature <= 23:\n",
      "            #    state = STATE_INIT\n",
      "            #else:\n",
      "            state = STATE_TIMER_WAIT\n",
      "    \n",
      "        elif state == STATE_TIMER_WAIT:\n",
      "            #gpio.set_ports(0b0110)\n",
      "            if (time.time() - t) > 4:\n",
      "                state = STATE_TIMER_NTH\n",
      "    \n",
      "        elif state == STATE_TIMER_NTH:\n",
      "            gpio.set_ports(0b0)\n",
      "            if temperature >23:\n",
      "                state = STATE_TIMER_NTH\n",
      "            else:\n",
      "                state = STATE_INIT\n",
      "    \n",
      "    \n",
      "        messg = \"Temp: %.2f Hum: %.2f\" % (temperature, humidity)\n",
      "        print messg\n",
      "        logging.write([time.strftime(\"%H:%M:%S\"),\"{:.3f}\".format(temperature),\"{:.3f}\".format(humidity)])\n",
      "        time.sleep(1)\n",
      "       \n",
      "finally:\n",
      "    logging.close()\n",
      "    "
     ],
     "language": "python",
     "metadata": {},
     "outputs": [
      {
       "output_type": "stream",
       "stream": "stdout",
       "text": [
        "SHT25 humidity and temperature sensor example \r\n",
        "\n",
        "Temperature  Humidity[%%]  \r\n",
        "\n",
        "Temp: 22.18 Hum: 51.53"
       ]
      },
      {
       "output_type": "stream",
       "stream": "stdout",
       "text": [
        "\n",
        "Temp: 22.18 Hum: 51.53"
       ]
      },
      {
       "output_type": "stream",
       "stream": "stdout",
       "text": [
        "\n",
        "Temp: 22.18 Hum: 51.53"
       ]
      },
      {
       "output_type": "stream",
       "stream": "stdout",
       "text": [
        "\n",
        "Temp: 22.18 Hum: 51.53"
       ]
      },
      {
       "output_type": "stream",
       "stream": "stdout",
       "text": [
        "\n",
        "Temp: 22.18 Hum: 51.53"
       ]
      },
      {
       "output_type": "stream",
       "stream": "stdout",
       "text": [
        "\n",
        "Temp: 22.18 Hum: 52.03"
       ]
      },
      {
       "output_type": "stream",
       "stream": "stdout",
       "text": [
        "\n",
        "Temp: 22.18 Hum: 52.03"
       ]
      },
      {
       "output_type": "stream",
       "stream": "stdout",
       "text": [
        "\n",
        "Temp: 22.18 Hum: 52.03"
       ]
      },
      {
       "output_type": "stream",
       "stream": "stdout",
       "text": [
        "\n",
        "Temp: 22.18 Hum: 51.53"
       ]
      },
      {
       "output_type": "stream",
       "stream": "stdout",
       "text": [
        "\n",
        "Temp: 22.18 Hum: 51.53"
       ]
      },
      {
       "output_type": "stream",
       "stream": "stdout",
       "text": [
        "\n",
        "Temp: 22.18 Hum: 51.53"
       ]
      },
      {
       "output_type": "stream",
       "stream": "stdout",
       "text": [
        "\n",
        "Temp: 22.18 Hum: 51.53"
       ]
      },
      {
       "output_type": "stream",
       "stream": "stdout",
       "text": [
        "\n",
        "Temp: 22.18 Hum: 51.53"
       ]
      },
      {
       "output_type": "stream",
       "stream": "stdout",
       "text": [
        "\n",
        "Temp: 22.18 Hum: 51.53"
       ]
      },
      {
       "output_type": "stream",
       "stream": "stdout",
       "text": [
        "\n",
        "Temp: 22.18 Hum: 51.53"
       ]
      },
      {
       "output_type": "stream",
       "stream": "stdout",
       "text": [
        "\n",
        "Temp: 22.18 Hum: 51.04"
       ]
      },
      {
       "output_type": "stream",
       "stream": "stdout",
       "text": [
        "\n",
        "Temp: 22.18 Hum: 51.04"
       ]
      },
      {
       "output_type": "stream",
       "stream": "stdout",
       "text": [
        "\n",
        "Temp: 22.18 Hum: 51.04"
       ]
      },
      {
       "output_type": "stream",
       "stream": "stdout",
       "text": [
        "\n"
       ]
      },
      {
       "ename": "KeyboardInterrupt",
       "evalue": "",
       "output_type": "pyerr",
       "traceback": [
        "\u001b[0;31m---------------------------------------------------------------------------\u001b[0m\n\u001b[0;31mKeyboardInterrupt\u001b[0m                         Traceback (most recent call last)",
        "\u001b[0;32m<ipython-input-4-93096b1e98ea>\u001b[0m in \u001b[0;36m<module>\u001b[0;34m()\u001b[0m\n\u001b[1;32m     73\u001b[0m \u001b[0;32mtry\u001b[0m\u001b[0;34m:\u001b[0m\u001b[0;34m\u001b[0m\u001b[0m\n\u001b[1;32m     74\u001b[0m     \u001b[0;32mwhile\u001b[0m \u001b[0mTrue\u001b[0m\u001b[0;34m:\u001b[0m\u001b[0;34m\u001b[0m\u001b[0m\n\u001b[0;32m---> 75\u001b[0;31m         \u001b[0mtemperature\u001b[0m \u001b[0;34m=\u001b[0m \u001b[0msht_sensor\u001b[0m\u001b[0;34m.\u001b[0m\u001b[0mget_temp\u001b[0m\u001b[0;34m(\u001b[0m\u001b[0;34m)\u001b[0m\u001b[0;34m;\u001b[0m\u001b[0;34m\u001b[0m\u001b[0m\n\u001b[0m\u001b[1;32m     76\u001b[0m         \u001b[0mhumidity\u001b[0m \u001b[0;34m=\u001b[0m \u001b[0msht_sensor\u001b[0m\u001b[0;34m.\u001b[0m\u001b[0mget_hum\u001b[0m\u001b[0;34m(\u001b[0m\u001b[0;34m)\u001b[0m\u001b[0;34m;\u001b[0m\u001b[0;34m\u001b[0m\u001b[0m\n\u001b[1;32m     77\u001b[0m \u001b[0;34m\u001b[0m\u001b[0m\n",
        "\u001b[0;32m/Users/fluktuacia/Desktop/MLAB-I2c-modules/src/pymlab/sensors/sht25.pyc\u001b[0m in \u001b[0;36mget_temp\u001b[0;34m(self)\u001b[0m\n\u001b[1;32m     46\u001b[0m         \u001b[0mtime\u001b[0m\u001b[0;34m.\u001b[0m\u001b[0msleep\u001b[0m\u001b[0;34m(\u001b[0m\u001b[0;36m0.1\u001b[0m\u001b[0;34m)\u001b[0m\u001b[0;34m\u001b[0m\u001b[0m\n\u001b[1;32m     47\u001b[0m \u001b[0;34m\u001b[0m\u001b[0m\n\u001b[0;32m---> 48\u001b[0;31m         \u001b[0mdata\u001b[0m \u001b[0;34m=\u001b[0m \u001b[0mself\u001b[0m\u001b[0;34m.\u001b[0m\u001b[0mbus\u001b[0m\u001b[0;34m.\u001b[0m\u001b[0mread_int16\u001b[0m\u001b[0;34m(\u001b[0m\u001b[0mself\u001b[0m\u001b[0;34m.\u001b[0m\u001b[0maddress\u001b[0m\u001b[0;34m)\u001b[0m\u001b[0;34m\u001b[0m\u001b[0m\n\u001b[0m\u001b[1;32m     49\u001b[0m         \u001b[0mdata\u001b[0m \u001b[0;34m&=\u001b[0m \u001b[0;34m~\u001b[0m\u001b[0;36m0b11\u001b[0m    \u001b[0;31m# trow out status bits\u001b[0m\u001b[0;34m\u001b[0m\u001b[0m\n\u001b[1;32m     50\u001b[0m         \u001b[0;32mreturn\u001b[0m\u001b[0;34m(\u001b[0m\u001b[0;34m-\u001b[0m\u001b[0;36m46.85\u001b[0m \u001b[0;34m+\u001b[0m \u001b[0;36m175.72\u001b[0m\u001b[0;34m*\u001b[0m\u001b[0;34m(\u001b[0m\u001b[0mdata\u001b[0m\u001b[0;34m/\u001b[0m\u001b[0;36m65536.0\u001b[0m\u001b[0;34m)\u001b[0m\u001b[0;34m)\u001b[0m\u001b[0;34m\u001b[0m\u001b[0m\n",
        "\u001b[0;32m/Users/fluktuacia/Desktop/MLAB-I2c-modules/src/pymlab/sensors/__init__.pyc\u001b[0m in \u001b[0;36mread_int16\u001b[0;34m(self, address)\u001b[0m\n\u001b[1;32m    265\u001b[0m \u001b[0;34m\u001b[0m\u001b[0m\n\u001b[1;32m    266\u001b[0m     \u001b[0;32mdef\u001b[0m \u001b[0mread_int16\u001b[0m\u001b[0;34m(\u001b[0m\u001b[0mself\u001b[0m\u001b[0;34m,\u001b[0m \u001b[0maddress\u001b[0m\u001b[0;34m)\u001b[0m\u001b[0;34m:\u001b[0m   \u001b[0;31m## Reads int16 as two separate bytes, suppose autoincrement of internal register pointer in I2C device.\u001b[0m\u001b[0;34m\u001b[0m\u001b[0m\n\u001b[0;32m--> 267\u001b[0;31m         \u001b[0mMSB\u001b[0m \u001b[0;34m=\u001b[0m \u001b[0mself\u001b[0m\u001b[0;34m.\u001b[0m\u001b[0mdriver\u001b[0m\u001b[0;34m.\u001b[0m\u001b[0mread_byte\u001b[0m\u001b[0;34m(\u001b[0m\u001b[0maddress\u001b[0m\u001b[0;34m)\u001b[0m\u001b[0;34m\u001b[0m\u001b[0m\n\u001b[0m\u001b[1;32m    268\u001b[0m         \u001b[0mLSB\u001b[0m \u001b[0;34m=\u001b[0m \u001b[0mself\u001b[0m\u001b[0;34m.\u001b[0m\u001b[0mdriver\u001b[0m\u001b[0;34m.\u001b[0m\u001b[0mread_byte\u001b[0m\u001b[0;34m(\u001b[0m\u001b[0maddress\u001b[0m\u001b[0;34m)\u001b[0m\u001b[0;34m\u001b[0m\u001b[0m\n\u001b[1;32m    269\u001b[0m         \u001b[0mdata\u001b[0m \u001b[0;34m=\u001b[0m \u001b[0mbytes\u001b[0m\u001b[0;34m(\u001b[0m\u001b[0mbytearray\u001b[0m\u001b[0;34m(\u001b[0m\u001b[0;34m[\u001b[0m\u001b[0mMSB\u001b[0m\u001b[0;34m,\u001b[0m \u001b[0mLSB\u001b[0m\u001b[0;34m]\u001b[0m\u001b[0;34m)\u001b[0m\u001b[0;34m)\u001b[0m\u001b[0;34m\u001b[0m\u001b[0m\n",
        "\u001b[0;32m/Users/fluktuacia/Desktop/MLAB-I2c-modules/src/pymlab/sensors/iic.pyc\u001b[0m in \u001b[0;36mread_byte\u001b[0;34m(self, address)\u001b[0m\n\u001b[1;32m    269\u001b[0m         \u001b[0;32mfor\u001b[0m \u001b[0mk\u001b[0m \u001b[0;32min\u001b[0m \u001b[0mrange\u001b[0m\u001b[0;34m(\u001b[0m\u001b[0;36m10\u001b[0m\u001b[0;34m)\u001b[0m\u001b[0;34m:\u001b[0m\u001b[0;34m\u001b[0m\u001b[0m\n\u001b[1;32m    270\u001b[0m             \u001b[0mself\u001b[0m\u001b[0;34m.\u001b[0m\u001b[0mh\u001b[0m\u001b[0;34m.\u001b[0m\u001b[0mwrite\u001b[0m\u001b[0;34m(\u001b[0m\u001b[0;34m[\u001b[0m\u001b[0;36m0x15\u001b[0m\u001b[0;34m,\u001b[0m \u001b[0;36m0x01\u001b[0m\u001b[0;34m]\u001b[0m\u001b[0;34m)\u001b[0m \u001b[0;31m# Transfer Status Request\u001b[0m\u001b[0;34m\u001b[0m\u001b[0m\n\u001b[0;32m--> 271\u001b[0;31m             \u001b[0mresponse\u001b[0m \u001b[0;34m=\u001b[0m \u001b[0mself\u001b[0m\u001b[0;34m.\u001b[0m\u001b[0mh\u001b[0m\u001b[0;34m.\u001b[0m\u001b[0mread\u001b[0m\u001b[0;34m(\u001b[0m\u001b[0;36m7\u001b[0m\u001b[0;34m)\u001b[0m\u001b[0;34m\u001b[0m\u001b[0m\n\u001b[0m\u001b[1;32m    272\u001b[0m             \u001b[0;32mif\u001b[0m \u001b[0;34m(\u001b[0m\u001b[0mresponse\u001b[0m\u001b[0;34m[\u001b[0m\u001b[0;36m0\u001b[0m\u001b[0;34m]\u001b[0m \u001b[0;34m==\u001b[0m \u001b[0;36m0x16\u001b[0m\u001b[0;34m)\u001b[0m \u001b[0;32mand\u001b[0m \u001b[0;34m(\u001b[0m\u001b[0mresponse\u001b[0m\u001b[0;34m[\u001b[0m\u001b[0;36m2\u001b[0m\u001b[0;34m]\u001b[0m \u001b[0;34m==\u001b[0m \u001b[0;36m5\u001b[0m\u001b[0;34m)\u001b[0m\u001b[0;34m:\u001b[0m  \u001b[0;31m# Polling a data\u001b[0m\u001b[0;34m\u001b[0m\u001b[0m\n\u001b[1;32m    273\u001b[0m                 \u001b[0mself\u001b[0m\u001b[0;34m.\u001b[0m\u001b[0mh\u001b[0m\u001b[0;34m.\u001b[0m\u001b[0mwrite\u001b[0m\u001b[0;34m(\u001b[0m\u001b[0;34m[\u001b[0m\u001b[0;36m0x12\u001b[0m\u001b[0;34m,\u001b[0m \u001b[0;36m0x00\u001b[0m\u001b[0;34m,\u001b[0m \u001b[0;36m0x01\u001b[0m\u001b[0;34m]\u001b[0m\u001b[0;34m)\u001b[0m \u001b[0;31m# Data Read Force\u001b[0m\u001b[0;34m\u001b[0m\u001b[0m\n",
        "\u001b[0;31mKeyboardInterrupt\u001b[0m: "
       ]
      }
     ],
     "prompt_number": 4
    },
    {
     "cell_type": "code",
     "collapsed": false,
     "input": [],
     "language": "python",
     "metadata": {},
     "outputs": []
    }
   ],
   "metadata": {}
  }
 ]
}